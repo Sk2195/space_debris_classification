{
 "cells": [
  {
   "cell_type": "code",
   "execution_count": 19,
   "id": "0d0cec39",
   "metadata": {},
   "outputs": [],
   "source": [
    "import pandas as pd\n",
    "import numpy as np\n",
    "import joblib\n",
    "import seaborn as sns\n",
    "import matplotlib.pyplot as plt\n",
    "\n",
    "\n",
    "# Baseline model requirement\n",
    "\n",
    "from sklearn.model_selection import train_test_split\n",
    "from sklearn.preprocessing import StandardScaler\n",
    "from sklearn.linear_model import LogisticRegression\n",
    "from sklearn.metrics import accuracy_score, precision_score, recall_score, f1_score\n",
    "from sklearn.metrics import confusion_matrix\n",
    "from sklearn.metrics import roc_curve, auc\n",
    "\n",
    "# Other Modeling techniques\n",
    "\n",
    "from sklearn.tree import DecisionTreeClassifier\n",
    "from sklearn.ensemble import RandomForestClassifier, GradientBoostingClassifier\n",
    "from sklearn.neural_network import MLPClassifier\n",
    "from sklearn.metrics import accuracy_score, classification_report\n",
    "from sklearn.metrics import classification_report\n",
    "\n"
   ]
  },
  {
   "cell_type": "code",
   "execution_count": 20,
   "id": "c99edc1b",
   "metadata": {},
   "outputs": [],
   "source": [
    "# Provide the file path\n",
    "file_path = r'C:\\Users\\chimi\\Desktop\\Python Data Science Projects\\space_debris_classifications\\space_debris_classifications\\data\\pre-processed datas-final\\spacefinal_cleaned.csv'\n",
    "\n",
    "# Read the CSV file\n",
    "space_df = pd.read_csv(file_path)\n",
    "\n",
    "\n"
   ]
  },
  {
   "cell_type": "code",
   "execution_count": 21,
   "id": "84922408",
   "metadata": {},
   "outputs": [
    {
     "data": {
      "text/html": [
       "<div>\n",
       "<style scoped>\n",
       "    .dataframe tbody tr th:only-of-type {\n",
       "        vertical-align: middle;\n",
       "    }\n",
       "\n",
       "    .dataframe tbody tr th {\n",
       "        vertical-align: top;\n",
       "    }\n",
       "\n",
       "    .dataframe thead th {\n",
       "        text-align: right;\n",
       "    }\n",
       "</style>\n",
       "<table border=\"1\" class=\"dataframe\">\n",
       "  <thead>\n",
       "    <tr style=\"text-align: right;\">\n",
       "      <th></th>\n",
       "      <th>MEAN_MOTION</th>\n",
       "      <th>ECCENTRICITY</th>\n",
       "      <th>INCLINATION</th>\n",
       "      <th>RA_OF_ASC_NODE</th>\n",
       "      <th>ARG_OF_PERICENTER</th>\n",
       "      <th>MEAN_ANOMALY</th>\n",
       "      <th>REV_AT_EPOCH</th>\n",
       "      <th>BSTAR</th>\n",
       "      <th>MEAN_MOTION_DOT</th>\n",
       "      <th>MEAN_MOTION_DDOT</th>\n",
       "      <th>SEMIMAJOR_AXIS</th>\n",
       "      <th>PERIOD</th>\n",
       "      <th>APOAPSIS</th>\n",
       "      <th>PERIAPSIS</th>\n",
       "      <th>AP_DIFF</th>\n",
       "      <th>SEMIMINOR_AXIS</th>\n",
       "      <th>ORBITAL_VELOCITY</th>\n",
       "      <th>TARGET</th>\n",
       "      <th>RCS_SIZE_MEDIUM</th>\n",
       "      <th>RCS_SIZE_SMALL</th>\n",
       "    </tr>\n",
       "  </thead>\n",
       "  <tbody>\n",
       "    <tr>\n",
       "      <th>0</th>\n",
       "      <td>2.921700</td>\n",
       "      <td>0.652893</td>\n",
       "      <td>7.7156</td>\n",
       "      <td>90.2410</td>\n",
       "      <td>243.1216</td>\n",
       "      <td>38.7796</td>\n",
       "      <td>23588</td>\n",
       "      <td>0.024341</td>\n",
       "      <td>8.830000e-06</td>\n",
       "      <td>0.0</td>\n",
       "      <td>20668.618</td>\n",
       "      <td>492.864</td>\n",
       "      <td>27784.871</td>\n",
       "      <td>796.095</td>\n",
       "      <td>26988.776</td>\n",
       "      <td>15655.454942</td>\n",
       "      <td>4.391503</td>\n",
       "      <td>1</td>\n",
       "      <td>1</td>\n",
       "      <td>0</td>\n",
       "    </tr>\n",
       "    <tr>\n",
       "      <th>1</th>\n",
       "      <td>13.754973</td>\n",
       "      <td>0.003072</td>\n",
       "      <td>82.9193</td>\n",
       "      <td>299.1120</td>\n",
       "      <td>158.9093</td>\n",
       "      <td>201.3337</td>\n",
       "      <td>50124</td>\n",
       "      <td>0.000066</td>\n",
       "      <td>7.900000e-07</td>\n",
       "      <td>0.0</td>\n",
       "      <td>7358.038</td>\n",
       "      <td>104.689</td>\n",
       "      <td>1002.507</td>\n",
       "      <td>957.299</td>\n",
       "      <td>45.208</td>\n",
       "      <td>7358.003280</td>\n",
       "      <td>7.360170</td>\n",
       "      <td>1</td>\n",
       "      <td>0</td>\n",
       "      <td>1</td>\n",
       "    </tr>\n",
       "    <tr>\n",
       "      <th>2</th>\n",
       "      <td>1.038224</td>\n",
       "      <td>0.023739</td>\n",
       "      <td>12.1717</td>\n",
       "      <td>16.5368</td>\n",
       "      <td>250.1248</td>\n",
       "      <td>146.2900</td>\n",
       "      <td>7798</td>\n",
       "      <td>0.000000</td>\n",
       "      <td>-1.650000e-06</td>\n",
       "      <td>0.0</td>\n",
       "      <td>41197.852</td>\n",
       "      <td>1386.984</td>\n",
       "      <td>35797.696</td>\n",
       "      <td>33841.738</td>\n",
       "      <td>1955.958</td>\n",
       "      <td>41186.242434</td>\n",
       "      <td>3.110510</td>\n",
       "      <td>0</td>\n",
       "      <td>0</td>\n",
       "      <td>0</td>\n",
       "    </tr>\n",
       "    <tr>\n",
       "      <th>3</th>\n",
       "      <td>14.775907</td>\n",
       "      <td>0.006062</td>\n",
       "      <td>98.4781</td>\n",
       "      <td>8.7205</td>\n",
       "      <td>37.3771</td>\n",
       "      <td>323.1632</td>\n",
       "      <td>10204</td>\n",
       "      <td>0.000316</td>\n",
       "      <td>2.265000e-05</td>\n",
       "      <td>0.0</td>\n",
       "      <td>7015.076</td>\n",
       "      <td>97.456</td>\n",
       "      <td>679.465</td>\n",
       "      <td>594.417</td>\n",
       "      <td>85.048</td>\n",
       "      <td>7014.947113</td>\n",
       "      <td>7.537940</td>\n",
       "      <td>1</td>\n",
       "      <td>0</td>\n",
       "      <td>1</td>\n",
       "    </tr>\n",
       "    <tr>\n",
       "      <th>4</th>\n",
       "      <td>14.724482</td>\n",
       "      <td>0.006226</td>\n",
       "      <td>98.4232</td>\n",
       "      <td>122.0724</td>\n",
       "      <td>345.1605</td>\n",
       "      <td>27.6061</td>\n",
       "      <td>9622</td>\n",
       "      <td>0.000408</td>\n",
       "      <td>2.610000e-05</td>\n",
       "      <td>0.0</td>\n",
       "      <td>7031.400</td>\n",
       "      <td>97.796</td>\n",
       "      <td>697.039</td>\n",
       "      <td>609.491</td>\n",
       "      <td>87.548</td>\n",
       "      <td>7031.263741</td>\n",
       "      <td>7.529185</td>\n",
       "      <td>1</td>\n",
       "      <td>0</td>\n",
       "      <td>1</td>\n",
       "    </tr>\n",
       "  </tbody>\n",
       "</table>\n",
       "</div>"
      ],
      "text/plain": [
       "   MEAN_MOTION  ECCENTRICITY  INCLINATION  RA_OF_ASC_NODE  ARG_OF_PERICENTER  \\\n",
       "0     2.921700      0.652893       7.7156         90.2410           243.1216   \n",
       "1    13.754973      0.003072      82.9193        299.1120           158.9093   \n",
       "2     1.038224      0.023739      12.1717         16.5368           250.1248   \n",
       "3    14.775907      0.006062      98.4781          8.7205            37.3771   \n",
       "4    14.724482      0.006226      98.4232        122.0724           345.1605   \n",
       "\n",
       "   MEAN_ANOMALY  REV_AT_EPOCH     BSTAR  MEAN_MOTION_DOT  MEAN_MOTION_DDOT  \\\n",
       "0       38.7796         23588  0.024341     8.830000e-06               0.0   \n",
       "1      201.3337         50124  0.000066     7.900000e-07               0.0   \n",
       "2      146.2900          7798  0.000000    -1.650000e-06               0.0   \n",
       "3      323.1632         10204  0.000316     2.265000e-05               0.0   \n",
       "4       27.6061          9622  0.000408     2.610000e-05               0.0   \n",
       "\n",
       "   SEMIMAJOR_AXIS    PERIOD   APOAPSIS  PERIAPSIS    AP_DIFF  SEMIMINOR_AXIS  \\\n",
       "0       20668.618   492.864  27784.871    796.095  26988.776    15655.454942   \n",
       "1        7358.038   104.689   1002.507    957.299     45.208     7358.003280   \n",
       "2       41197.852  1386.984  35797.696  33841.738   1955.958    41186.242434   \n",
       "3        7015.076    97.456    679.465    594.417     85.048     7014.947113   \n",
       "4        7031.400    97.796    697.039    609.491     87.548     7031.263741   \n",
       "\n",
       "   ORBITAL_VELOCITY  TARGET  RCS_SIZE_MEDIUM  RCS_SIZE_SMALL  \n",
       "0          4.391503       1                1               0  \n",
       "1          7.360170       1                0               1  \n",
       "2          3.110510       0                0               0  \n",
       "3          7.537940       1                0               1  \n",
       "4          7.529185       1                0               1  "
      ]
     },
     "execution_count": 21,
     "metadata": {},
     "output_type": "execute_result"
    }
   ],
   "source": [
    "space_df.head(5)"
   ]
  },
  {
   "cell_type": "code",
   "execution_count": 22,
   "id": "7c52fa79",
   "metadata": {},
   "outputs": [
    {
     "data": {
      "text/plain": [
       "Index(['MEAN_MOTION', 'ECCENTRICITY', 'INCLINATION', 'RA_OF_ASC_NODE',\n",
       "       'ARG_OF_PERICENTER', 'MEAN_ANOMALY', 'REV_AT_EPOCH', 'BSTAR',\n",
       "       'MEAN_MOTION_DOT', 'MEAN_MOTION_DDOT', 'SEMIMAJOR_AXIS', 'PERIOD',\n",
       "       'APOAPSIS', 'PERIAPSIS', 'AP_DIFF', 'SEMIMINOR_AXIS',\n",
       "       'ORBITAL_VELOCITY', 'TARGET', 'RCS_SIZE_MEDIUM', 'RCS_SIZE_SMALL'],\n",
       "      dtype='object')"
      ]
     },
     "execution_count": 22,
     "metadata": {},
     "output_type": "execute_result"
    }
   ],
   "source": [
    "space_df.columns"
   ]
  },
  {
   "cell_type": "code",
   "execution_count": 23,
   "id": "989e9ada",
   "metadata": {},
   "outputs": [
    {
     "data": {
      "text/plain": [
       "(14125, 20)"
      ]
     },
     "execution_count": 23,
     "metadata": {},
     "output_type": "execute_result"
    }
   ],
   "source": [
    "space_df.shape"
   ]
  },
  {
   "cell_type": "markdown",
   "id": "d1f6f7e1",
   "metadata": {},
   "source": [
    "### Using Logistic Regression to build a baseline model:\n",
    "##### Tutorials:https://www.sharpsightlabs.com/blog/sklearn-logistic-regression/\n",
    "##### https://www.kaggle.com/code/prashant111/logistic-regression-classifier-tutorial\n",
    "\n"
   ]
  },
  {
   "cell_type": "code",
   "execution_count": 24,
   "id": "fb9b5df4",
   "metadata": {},
   "outputs": [
    {
     "name": "stderr",
     "output_type": "stream",
     "text": [
      "C:\\Users\\chimi\\anaconda3\\lib\\site-packages\\sklearn\\linear_model\\_logistic.py:460: ConvergenceWarning: lbfgs failed to converge (status=1):\n",
      "STOP: TOTAL NO. of ITERATIONS REACHED LIMIT.\n",
      "\n",
      "Increase the number of iterations (max_iter) or scale the data as shown in:\n",
      "    https://scikit-learn.org/stable/modules/preprocessing.html\n",
      "Please also refer to the documentation for alternative solver options:\n",
      "    https://scikit-learn.org/stable/modules/linear_model.html#logistic-regression\n",
      "  n_iter_i = _check_optimize_result(\n"
     ]
    }
   ],
   "source": [
    "# Seperate the features and the target\n",
    "X = space_df.drop('TARGET', axis=1)\n",
    "y = space_df['TARGET']\n",
    "  \n",
    "    \n",
    "# Split the dataset\n",
    "X_train, X_test, y_train, y_test = train_test_split(X, y, test_size=0.2, random_state=42)\n",
    "\n",
    "# Standardized\n",
    "scaler = StandardScaler()\n",
    "X_train_scaled = scaler.fit_transform(X_train)\n",
    "X_test_scaled = scaler.transform(X_test)\n",
    "\n",
    "# Build a model\n",
    "\n",
    "model = LogisticRegression()\n",
    "model.fit(X_train_scaled, y_train)\n",
    "\n",
    "y_pred = model.predict(X_test_scaled)\n"
   ]
  },
  {
   "cell_type": "code",
   "execution_count": 25,
   "id": "2c2391a4",
   "metadata": {},
   "outputs": [
    {
     "data": {
      "text/plain": [
       "{'Accuracy': 0.9161061946902654,\n",
       " 'Precision': 0.9038785834738617,\n",
       " 'Recall': 0.9605734767025089,\n",
       " 'F1 Score': 0.9313640312771504}"
      ]
     },
     "execution_count": 25,
     "metadata": {},
     "output_type": "execute_result"
    }
   ],
   "source": [
    "accuracy = accuracy_score(y_test, y_pred)\n",
    "precision = precision_score(y_test, y_pred)\n",
    "recall = recall_score(y_test, y_pred)\n",
    "f1 = f1_score(y_test, y_pred)\n",
    "\n",
    "model_metrics = {\n",
    "      'Accuracy':accuracy,\n",
    "       'Precision':precision,\n",
    "       'Recall' : recall,\n",
    "       'F1 Score': f1\n",
    "    \n",
    "    \n",
    "}\n",
    "\n",
    "model_metrics"
   ]
  },
  {
   "cell_type": "code",
   "execution_count": 26,
   "id": "d0ea92ee",
   "metadata": {},
   "outputs": [
    {
     "name": "stderr",
     "output_type": "stream",
     "text": [
      "C:\\Users\\chimi\\anaconda3\\lib\\site-packages\\sklearn\\linear_model\\_logistic.py:460: ConvergenceWarning: lbfgs failed to converge (status=1):\n",
      "STOP: TOTAL NO. of ITERATIONS REACHED LIMIT.\n",
      "\n",
      "Increase the number of iterations (max_iter) or scale the data as shown in:\n",
      "    https://scikit-learn.org/stable/modules/preprocessing.html\n",
      "Please also refer to the documentation for alternative solver options:\n",
      "    https://scikit-learn.org/stable/modules/linear_model.html#logistic-regression\n",
      "  n_iter_i = _check_optimize_result(\n"
     ]
    }
   ],
   "source": [
    "# Seperate the features and the target\n",
    "X = space_df.drop('TARGET', axis=1)\n",
    "y = space_df['TARGET']\n",
    "\n",
    "\n",
    "# Split the dataset\n",
    "X_train, X_test, y_train, y_test = train_test_split(X, y, test_size=0.2, random_state=42)\n",
    "\n",
    "# Standardized\n",
    "scaler = StandardScaler()\n",
    "X_train_scaled = scaler.fit_transform(X_train)\n",
    "X_test_scaled = scaler.transform(X_test)\n",
    "\n",
    "# Build a model\n",
    "model = LogisticRegression()\n",
    "model.fit(X_train_scaled, y_train)\n",
    "\n",
    "y_pred = model.predict(X_test_scaled)"
   ]
  },
  {
   "cell_type": "code",
   "execution_count": 27,
   "id": "0707679a",
   "metadata": {},
   "outputs": [
    {
     "data": {
      "text/plain": [
       "<Axes: >"
      ]
     },
     "execution_count": 27,
     "metadata": {},
     "output_type": "execute_result"
    },
    {
     "data": {
      "image/png": "[encoded data removed]",
      "text/plain": [
       "<Figure size 640x480 with 2 Axes>"
      ]
     },
     "metadata": {},
     "output_type": "display_data"
    }
   ],
   "source": [
    "# Visualize the confusion matrix\n",
    "\n",
    "cm = confusion_matrix(y_test, y_pred)\n",
    "\n",
    "cm_matrix = pd.DataFrame(data=cm, columns=['Actual Positive:1', 'Actual Negative:0'], \n",
    "                                 index=['Predict Positive:1', 'Predict Negative:0'])\n",
    "sns.heatmap(cm_matrix, annot=True, fmt='d', cmap='YlGnBu')\n"
   ]
  },
  {
   "cell_type": "code",
   "execution_count": 28,
   "id": "c178ae3d",
   "metadata": {},
   "outputs": [
    {
     "data": {
      "image/png": "[encoded data removed]",
      "text/plain": [
       "<Figure size 800x600 with 1 Axes>"
      ]
     },
     "metadata": {},
     "output_type": "display_data"
    },
    {
     "data": {
      "text/plain": [
       "0.9712545425670058"
      ]
     },
     "execution_count": 28,
     "metadata": {},
     "output_type": "execute_result"
    }
   ],
   "source": [
    "# ROC Curve \n",
    "\n",
    "\n",
    "# Predict probabilities for the test set\n",
    "y_probs = model.predict_proba(X_test_scaled)[:, 1]  # Get the probability of the positive class\n",
    "\n",
    "# Calculate the ROC curve\n",
    "fpr, tpr, thresholds = roc_curve(y_test, y_probs)\n",
    "\n",
    "# Calculate the AUC\n",
    "roc_auc = auc(fpr, tpr)\n",
    "\n",
    "# Plot the ROC curve\n",
    "plt.figure(figsize=(8, 6))\n",
    "plt.plot(fpr, tpr, color='darkorange', lw=2, label='ROC curve (area = %0.2f)' % roc_auc)\n",
    "plt.plot([0, 1], [0, 1], color='navy', lw=2, linestyle='--')\n",
    "plt.xlim([0.0, 1.0])\n",
    "plt.ylim([0.0, 1.05])\n",
    "plt.xlabel('False Positive Rate')\n",
    "plt.ylabel('True Positive Rate')\n",
    "plt.title('Receiver Operating Characteristic (ROC) Curve')\n",
    "plt.legend(loc=\"lower right\")\n",
    "plt.show()\n",
    "\n",
    "roc_auc"
   ]
  },
  {
   "cell_type": "code",
   "execution_count": 14,
   "id": "23ff4c23",
   "metadata": {},
   "outputs": [
    {
     "name": "stdout",
     "output_type": "stream",
     "text": [
      "Decision Tree Accuracy: 0.9727433628318584\n",
      "\n",
      "Decision Tree Confusion Matrix:\n",
      " [[1108   43]\n",
      " [  34 1640]]\n",
      "\n",
      "Decision Tree Classification Report:\n",
      "               precision    recall  f1-score   support\n",
      "\n",
      "           0       0.97      0.96      0.97      1151\n",
      "           1       0.97      0.98      0.98      1674\n",
      "\n",
      "    accuracy                           0.97      2825\n",
      "   macro avg       0.97      0.97      0.97      2825\n",
      "weighted avg       0.97      0.97      0.97      2825\n",
      "\n"
     ]
    }
   ],
   "source": [
    "\n",
    "\n",
    "# Assuming X_train, X_test, y_train, y_test are already defined from your dataset\n",
    "\n",
    "# Decision Tree\n",
    "clf = DecisionTreeClassifier()\n",
    "clf.fit(X_train, y_train)\n",
    "y_pred = clf.predict(X_test)\n",
    "print(\"Decision Tree Accuracy:\", accuracy_score(y_test, y_pred))\n",
    "print(\"\\nDecision Tree Confusion Matrix:\\n\", confusion_matrix(y_test, y_pred))\n",
    "print(\"\\nDecision Tree Classification Report:\\n\", classification_report(y_test, y_pred))"
   ]
  },
  {
   "cell_type": "code",
   "execution_count": 15,
   "id": "9c446044",
   "metadata": {},
   "outputs": [
    {
     "name": "stdout",
     "output_type": "stream",
     "text": [
      "Random Forest Accuracy: 0.9805309734513274\n",
      "Random Forest Classification Report:\n",
      "               precision    recall  f1-score   support\n",
      "\n",
      "           0       0.97      0.98      0.98      1151\n",
      "           1       0.99      0.98      0.98      1674\n",
      "\n",
      "    accuracy                           0.98      2825\n",
      "   macro avg       0.98      0.98      0.98      2825\n",
      "weighted avg       0.98      0.98      0.98      2825\n",
      "\n",
      "Gradient Boosting Accuracy: 0.968495575221239\n",
      "Gradient Boosting Classification Report:\n",
      "               precision    recall  f1-score   support\n",
      "\n",
      "           0       0.96      0.96      0.96      1151\n",
      "           1       0.97      0.97      0.97      1674\n",
      "\n",
      "    accuracy                           0.97      2825\n",
      "   macro avg       0.97      0.97      0.97      2825\n",
      "weighted avg       0.97      0.97      0.97      2825\n",
      "\n",
      "Neural Networks Accuracy: 0.8569911504424779\n",
      "Neural Networks Classification Report:\n",
      "               precision    recall  f1-score   support\n",
      "\n",
      "           0       0.88      0.75      0.81      1151\n",
      "           1       0.85      0.93      0.89      1674\n",
      "\n",
      "    accuracy                           0.86      2825\n",
      "   macro avg       0.86      0.84      0.85      2825\n",
      "weighted avg       0.86      0.86      0.85      2825\n",
      "\n"
     ]
    }
   ],
   "source": [
    "# Random Forest\n",
    "# Choosing Random Forest due to slightly better recall\n",
    "rf = RandomForestClassifier()\n",
    "rf.fit(X_train, y_train)\n",
    "rf_preds = rf.predict(X_test)\n",
    "rf_accuracy = accuracy_score(y_test, rf_preds)\n",
    "rf_report = classification_report(y_test, rf_preds)\n",
    "\n",
    "# Gradient Boosting\n",
    "gb = GradientBoostingClassifier()\n",
    "gb.fit(X_train, y_train)\n",
    "gb_preds = gb.predict(X_test)\n",
    "gb_accuracy = accuracy_score(y_test, gb_preds)\n",
    "gb_report = classification_report(y_test, gb_preds)\n",
    "\n",
    "# Neural Networks\n",
    "nn = MLPClassifier()\n",
    "nn.fit(X_train, y_train)\n",
    "nn_preds = nn.predict(X_test)\n",
    "nn_accuracy = accuracy_score(y_test, nn_preds)\n",
    "nn_report = classification_report(y_test, nn_preds)\n",
    "\n",
    "# Print the results for Random Forest, Gradient Boosting, and Neural Networks\n",
    "print(\"Random Forest Accuracy:\", rf_accuracy)\n",
    "print(\"Random Forest Classification Report:\\n\", rf_report)\n",
    "print(\"Gradient Boosting Accuracy:\", gb_accuracy)\n",
    "print(\"Gradient Boosting Classification Report:\\n\", gb_report)\n",
    "print(\"Neural Networks Accuracy:\", nn_accuracy)\n",
    "print(\"Neural Networks Classification Report:\\n\", nn_report)\n"
   ]
  },
  {
   "cell_type": "code",
   "execution_count": 16,
   "id": "aacf219e",
   "metadata": {},
   "outputs": [
    {
     "name": "stdout",
     "output_type": "stream",
     "text": [
      "              precision    recall  f1-score   support\n",
      "\n",
      "           0       0.97      0.97      0.97      1151\n",
      "           1       0.98      0.98      0.98      1674\n",
      "\n",
      "    accuracy                           0.98      2825\n",
      "   macro avg       0.98      0.98      0.98      2825\n",
      "weighted avg       0.98      0.98      0.98      2825\n",
      "\n",
      "Accuracy: 0.9787610619469026\n"
     ]
    }
   ],
   "source": [
    "# Split the data into training and testing sets\n",
    "\n",
    "\n",
    "\n",
    "# Model Training\n",
    "model = RandomForestClassifier()  # Choose the appropriate classifier\n",
    "model.fit(X_train, y_train)\n",
    "\n",
    "# Model Evaluation\n",
    "y_pred = model.predict(X_test)\n",
    "print(classification_report(y_test, y_pred))\n",
    "\n",
    "# Calculate accuracy\n",
    "accuracy = accuracy_score(y_test, y_pred)\n",
    "print(\"Accuracy:\", accuracy)\n",
    "\n"
   ]
  },
  {
   "cell_type": "code",
   "execution_count": 37,
   "id": "5f1714b0",
   "metadata": {},
   "outputs": [
    {
     "data": {
      "text/plain": [
       "Index(['MEAN_MOTION', 'ECCENTRICITY', 'INCLINATION', 'RA_OF_ASC_NODE',\n",
       "       'ARG_OF_PERICENTER', 'MEAN_ANOMALY', 'REV_AT_EPOCH', 'BSTAR',\n",
       "       'MEAN_MOTION_DOT', 'MEAN_MOTION_DDOT', 'SEMIMAJOR_AXIS', 'PERIOD',\n",
       "       'APOAPSIS', 'PERIAPSIS', 'AP_DIFF', 'SEMIMINOR_AXIS',\n",
       "       'ORBITAL_VELOCITY', 'RCS_SIZE_MEDIUM', 'RCS_SIZE_SMALL'],\n",
       "      dtype='object')"
      ]
     },
     "execution_count": 37,
     "metadata": {},
     "output_type": "execute_result"
    }
   ],
   "source": [
    "X_train.columns"
   ]
  },
  {
   "cell_type": "code",
   "execution_count": 18,
   "id": "29351fd0",
   "metadata": {},
   "outputs": [
    {
     "name": "stdout",
     "output_type": "stream",
     "text": [
      "Model saved at: C:\\Users\\chimi\\Desktop\\Python Data Science Projects\\Space Debris\\Task 5- App Deployment\\assets\\model.pkl\n"
     ]
    }
   ],
   "source": [
    "directory = r\"C:\\Users\\chimi\\Desktop\\Python Data Science Projects\\Space Debris\\Task 5- App Deployment\\assets\"\n",
    "model_path = fr\"{directory}\\model.pkl\"\n",
    "joblib.dump(model, model_path)\n",
    "\n",
    "print(\"Model saved at:\", model_path)"
   ]
  },
  {
   "cell_type": "code",
   "execution_count": null,
   "id": "bec01091",
   "metadata": {},
   "outputs": [],
   "source": []
  }
 ],
 "metadata": {
  "kernelspec": {
   "display_name": "Python 3 (ipykernel)",
   "language": "python",
   "name": "python3"
  },
  "language_info": {
   "codemirror_mode": {
    "name": "ipython",
    "version": 3
   },
   "file_extension": ".py",
   "mimetype": "text/x-python",
   "name": "python",
   "nbconvert_exporter": "python",
   "pygments_lexer": "ipython3",
   "version": "3.9.13"
  }
 },
 "nbformat": 4,
 "nbformat_minor": 5
}
